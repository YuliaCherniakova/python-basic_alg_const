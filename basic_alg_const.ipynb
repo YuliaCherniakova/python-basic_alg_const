{
  "nbformat": 4,
  "nbformat_minor": 0,
  "metadata": {
    "colab": {
      "provenance": [],
      "authorship_tag": "ABX9TyMwW5jPnsb9uxm6LiJXP/2u",
      "include_colab_link": true
    },
    "kernelspec": {
      "name": "python3",
      "display_name": "Python 3"
    },
    "language_info": {
      "name": "python"
    }
  },
  "cells": [
    {
      "cell_type": "markdown",
      "metadata": {
        "id": "view-in-github",
        "colab_type": "text"
      },
      "source": [
        "<a href=\"https://colab.research.google.com/github/YuliaCherniakova/python-basic_alg_const/blob/main/basic_alg_const.ipynb\" target=\"_parent\"><img src=\"https://colab.research.google.com/assets/colab-badge.svg\" alt=\"Open In Colab\"/></a>"
      ]
    },
    {
      "cell_type": "code",
      "execution_count": null,
      "metadata": {
        "colab": {
          "base_uri": "https://localhost:8080/"
        },
        "id": "RGClc7hfCk52",
        "outputId": "c4dbf197-075c-4f46-b818-3682b4656275"
      },
      "outputs": [
        {
          "output_type": "stream",
          "name": "stdout",
          "text": [
            "210\n"
          ]
        }
      ],
      "source": [
        "b=0\n",
        "for i in [1,2,3,4,5,6,7,8,9,10,11,12,13,14,15,16,17,18,19,20]:\n",
        "  b=b+i\n",
        "\n",
        "print(b)"
      ]
    },
    {
      "cell_type": "code",
      "source": [
        "l=['a','b','c','b','d','m','n','n','z','z','z','a']\n",
        "s=set(l)\n",
        "\n",
        "\n",
        "for i in s:\n",
        "  if (l.count(i) > 1):\n",
        "    print(i)"
      ],
      "metadata": {
        "colab": {
          "base_uri": "https://localhost:8080/"
        },
        "id": "onr4w5RqEeKi",
        "outputId": "b5013c3d-74e2-450a-cb0d-d7cb8fc05398"
      },
      "execution_count": null,
      "outputs": [
        {
          "output_type": "stream",
          "name": "stdout",
          "text": [
            "z\n",
            "a\n",
            "n\n",
            "b\n"
          ]
        }
      ]
    },
    {
      "cell_type": "code",
      "source": [
        "l=['a','b','c','b','d','m','n','n','z','z','z','a']\n",
        "s=set(l)\n",
        "print(len(s)) "
      ],
      "metadata": {
        "colab": {
          "base_uri": "https://localhost:8080/"
        },
        "id": "ueGBH2UEEeXu",
        "outputId": "029ef506-44c9-446c-9633-cb898cdff35f"
      },
      "execution_count": null,
      "outputs": [
        {
          "output_type": "stream",
          "name": "stdout",
          "text": [
            "7\n"
          ]
        }
      ]
    },
    {
      "cell_type": "code",
      "source": [
        "picture = [\n",
        "    [0,0,0,0,0,0,0,0,0,0,0,1,1,1,0,0],\n",
        "    [1,0,0,0,0,0,0,1,0,0,0,0,0,1,1,0],\n",
        "    [1,1,0,0,0,0,1,1,0,0,0,0,0,0,1,1],\n",
        "    [1,1,1,1,1,1,1,1,0,0,0,0,0,0,1,1],\n",
        "    [1,1,0,1,1,0,1,1,0,0,0,0,0,0,1,1],\n",
        "    [1,1,1,1,1,1,1,1,0,0,0,0,0,0,1,1],\n",
        "    [1,1,1,1,1,1,1,1,1,1,1,1,1,1,1,0],\n",
        "    [0,1,1,1,1,1,1,0,1,1,1,1,1,1,1,0],\n",
        "    [0,0,0,1,1,0,0,0,1,1,0,0,0,1,1,0],\n",
        "    [0,0,0,0,0,0,0,0,1,1,0,0,0,1,1,0],\n",
        "    [0,0,0,0,0,0,0,1,1,1,0,0,1,1,1,0],\n",
        "    [0,0,0,0,0,0,0,1,1,1,0,0,1,1,1,0]\n",
        "]\n",
        "\n",
        "for i in range(12):\n",
        "  for j in range(16):\n",
        "    if picture[i][j]== 0:\n",
        "      print(' ', end='')\n",
        "    else: print('*', end='')\n",
        "  print()\n",
        "           "
      ],
      "metadata": {
        "id": "mzUmyRRHEeiV",
        "colab": {
          "base_uri": "https://localhost:8080/"
        },
        "outputId": "7b445744-4ab8-4d84-d402-27bad9c0cd03"
      },
      "execution_count": null,
      "outputs": [
        {
          "output_type": "stream",
          "name": "stdout",
          "text": [
            "           ***  \n",
            "*      *     ** \n",
            "**    **      **\n",
            "********      **\n",
            "** ** **      **\n",
            "********      **\n",
            "*************** \n",
            " ****** ******* \n",
            "   **   **   ** \n",
            "        **   ** \n",
            "       ***  *** \n",
            "       ***  *** \n"
          ]
        }
      ]
    }
  ]
}